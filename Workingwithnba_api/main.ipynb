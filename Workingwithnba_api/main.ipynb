{
 "cells": [
  {
   "cell_type": "code",
   "execution_count": 3,
   "metadata": {
    "collapsed": true
   },
   "outputs": [
    {
     "name": "stdout",
     "output_type": "stream",
     "text": [
      "Requirement already satisfied: nba_api in /usr/local/anaconda3/envs/Workingwithnba_api/lib/python3.8/site-packages (1.1.9)\r\n",
      "Requirement already satisfied: requests in /usr/local/anaconda3/envs/Workingwithnba_api/lib/python3.8/site-packages (from nba_api) (2.25.1)\r\n",
      "Requirement already satisfied: certifi>=2017.4.17 in /usr/local/anaconda3/envs/Workingwithnba_api/lib/python3.8/site-packages (from requests->nba_api) (2020.12.5)\r\n",
      "Requirement already satisfied: urllib3<1.27,>=1.21.1 in /usr/local/anaconda3/envs/Workingwithnba_api/lib/python3.8/site-packages (from requests->nba_api) (1.26.3)\r\n",
      "Requirement already satisfied: idna<3,>=2.5 in /usr/local/anaconda3/envs/Workingwithnba_api/lib/python3.8/site-packages (from requests->nba_api) (2.10)\r\n",
      "Requirement already satisfied: chardet<5,>=3.0.2 in /usr/local/anaconda3/envs/Workingwithnba_api/lib/python3.8/site-packages (from requests->nba_api) (4.0.0)\r\n",
      "Collecting pandas\r\n",
      "  Using cached pandas-1.2.2-cp38-cp38-macosx_10_9_x86_64.whl (10.5 MB)\r\n",
      "Requirement already satisfied: python-dateutil>=2.7.3 in /usr/local/anaconda3/envs/Workingwithnba_api/lib/python3.8/site-packages (from pandas) (2.8.1)\r\n",
      "Collecting numpy>=1.16.5\r\n",
      "  Downloading numpy-1.20.1-cp38-cp38-macosx_10_9_x86_64.whl (16.0 MB)\r\n",
      "\u001B[K     |████████████████████████████████| 16.0 MB 6.4 MB/s eta 0:00:01\r\n",
      "\u001B[?25hRequirement already satisfied: six>=1.5 in /usr/local/anaconda3/envs/Workingwithnba_api/lib/python3.8/site-packages (from python-dateutil>=2.7.3->pandas) (1.15.0)\r\n",
      "Collecting pytz>=2017.3\r\n",
      "  Using cached pytz-2021.1-py2.py3-none-any.whl (510 kB)\r\n",
      "Installing collected packages: pytz, numpy, pandas\r\n",
      "Successfully installed numpy-1.20.1 pandas-1.2.2 pytz-2021.1\r\n"
     ]
    }
   ],
   "source": [
    "!pip install nba_api\n",
    "!pip install pandas"
   ]
  }
 ],
 "metadata": {
  "kernelspec": {
   "display_name": "Python 3",
   "language": "python",
   "name": "python3"
  },
  "language_info": {
   "codemirror_mode": {
    "name": "ipython",
    "version": 2
   },
   "file_extension": ".py",
   "mimetype": "text/x-python",
   "name": "python",
   "nbconvert_exporter": "python",
   "pygments_lexer": "ipython2",
   "version": "2.7.6"
  }
 },
 "nbformat": 4,
 "nbformat_minor": 0
}