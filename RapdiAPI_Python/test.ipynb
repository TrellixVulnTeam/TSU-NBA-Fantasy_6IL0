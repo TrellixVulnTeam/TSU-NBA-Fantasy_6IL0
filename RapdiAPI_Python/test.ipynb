{
 "cells": [
  {
   "cell_type": "code",
   "execution_count": 23,
   "metadata": {
    "collapsed": true
   },
   "outputs": [],
   "source": [
    "import pandas as pd\n",
    "import rapidapi_nba"
   ]
  },
  {
   "cell_type": "code",
   "execution_count": 24,
   "outputs": [],
   "source": [
    "if __name__ == \"__main__\":\n",
    "    # header\n",
    "    head = {\n",
    "        'x-rapidapi-key': \"9ab5f1799cmsh27212c7d8f60efep17f457jsn395ab0f973b6\",\n",
    "        'x-rapidapi-host': \"api-nba-v1.p.rapidapi.com\"\n",
    "    }\n",
    "    #%%\n",
    "    league = rapidapi_nba.get_leagues(head)\n",
    "    # print(league)\n",
    "\n",
    "    players_json = rapidapi_nba.get_players_by_league(head, league)"
   ],
   "metadata": {
    "collapsed": false,
    "pycharm": {
     "name": "#%%\n"
    }
   }
  },
  {
   "cell_type": "code",
   "execution_count": 27,
   "outputs": [],
   "source": [
    "    # JSON  filter active players\n",
    "    active_players_json = [x for x in players_json if x['leagues'][f'{league}']['active'] == '1']"
   ],
   "metadata": {
    "collapsed": false,
    "pycharm": {
     "name": "#%%\n"
    }
   }
  },
  {
   "cell_type": "code",
   "execution_count": 28,
   "outputs": [],
   "source": [
    "    # Data Frame of active players\n",
    "    active_players_df = pd.json_normalize(data= active_players_json)"
   ],
   "metadata": {
    "collapsed": false,
    "pycharm": {
     "name": "#%%\n"
    }
   }
  },
  {
   "cell_type": "code",
   "execution_count": 29,
   "outputs": [],
   "source": [
    "    # Data Frame of active players ids\n",
    "    active_players_ids_df = pd.DataFrame(active_players_df[\"playerId\"])"
   ],
   "metadata": {
    "collapsed": false,
    "pycharm": {
     "name": "#%%\n"
    }
   }
  },
  {
   "cell_type": "code",
   "execution_count": 30,
   "outputs": [],
   "source": [
    "    player_ids_lst = [x for x in active_players_ids_df[\"playerId\"]]"
   ],
   "metadata": {
    "collapsed": false,
    "pycharm": {
     "name": "#%%\n"
    }
   }
  },
  {
   "cell_type": "code",
   "execution_count": 31,
   "outputs": [],
   "source": [
    "    # Get latest season\n",
    "    response_season = rapidapi_nba.get_season(head)"
   ],
   "metadata": {
    "collapsed": false,
    "pycharm": {
     "name": "#%%\n"
    }
   }
  },
  {
   "cell_type": "code",
   "execution_count": 32,
   "outputs": [],
   "source": [
    "    # Get Current Seasons\n",
    "    seasons_json = response_season.json()\n",
    "    seasons = seasons_json['api']['seasons']\n",
    "    current_season = seasons_json['api']['seasons'][-1]"
   ],
   "metadata": {
    "collapsed": false,
    "pycharm": {
     "name": "#%%\n"
    }
   }
  },
  {
   "cell_type": "code",
   "execution_count": 38,
   "outputs": [],
   "source": [
    "    # Get stats from player\n",
    "    response_stat = rapidapi_nba.get_player_stats_by_player_id(head, '265')"
   ],
   "metadata": {
    "collapsed": false,
    "pycharm": {
     "name": "#%%\n"
    }
   }
  },
  {
   "cell_type": "code",
   "execution_count": 50,
   "outputs": [],
   "source": [
    "    player_stat_json = response_stat.json()\n",
    "    player_stat_json = player_stat_json[\"api\"][\"statistics\"]\n",
    "    stat_df = pd.json_normalize(player_stat_json)\n",
    "    if len(player_stat_json) >= 5:\n",
    "        latest_stat_df = pd.json_normalize(player_stat_json[len(player_stat_json)-5:])\n",
    "    else:\n",
    "        latest_stat_df = pd.json_normalize(player_stat_json)\n"
   ],
   "metadata": {
    "collapsed": false,
    "pycharm": {
     "name": "#%%\n"
    }
   }
  }
 ],
 "metadata": {
  "kernelspec": {
   "display_name": "Python 3",
   "language": "python",
   "name": "python3"
  },
  "language_info": {
   "codemirror_mode": {
    "name": "ipython",
    "version": 2
   },
   "file_extension": ".py",
   "mimetype": "text/x-python",
   "name": "python",
   "nbconvert_exporter": "python",
   "pygments_lexer": "ipython2",
   "version": "2.7.6"
  }
 },
 "nbformat": 4,
 "nbformat_minor": 0
}