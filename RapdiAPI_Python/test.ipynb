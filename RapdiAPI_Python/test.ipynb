{
 "cells": [
  {
   "cell_type": "code",
   "execution_count": null,
   "outputs": [],
   "source": [
    "import pandas as pd\n",
    "import rapidapi_nba"
   ],
   "metadata": {
    "collapsed": false,
    "pycharm": {
     "name": "#%%\n"
    }
   }
  },
  {
   "cell_type": "code",
   "execution_count": null,
   "outputs": [],
   "source": [
    "if __name__ == \"__main__\":\n",
    "    pd.set_option(\"display.max_rows\", None, \"display.max_columns\", None)\n",
    "    # header\n",
    "    head = {\n",
    "        'x-rapidapi-key': \"9ab5f1799cmsh27212c7d8f60efep17f457jsn395ab0f973b6\",\n",
    "        'x-rapidapi-host': \"api-nba-v1.p.rapidapi.com\"\n",
    "    }"
   ],
   "metadata": {
    "collapsed": false,
    "pycharm": {
     "name": "#%%\n"
    }
   }
  },
  {
   "cell_type": "code",
   "execution_count": null,
   "outputs": [],
   "source": [
    "    league = rapidapi_nba.get_leagues(head)\n",
    "    # print(selected_league)"
   ],
   "metadata": {
    "collapsed": false,
    "pycharm": {
     "name": "#%%\n"
    }
   }
  },
  {
   "cell_type": "code",
   "execution_count": null,
   "outputs": [],
   "source": [
    "    players_by_league = rapidapi_nba.get_players_by_league(head, league)"
   ],
   "metadata": {
    "collapsed": false,
    "pycharm": {
     "name": "#%%\n"
    }
   }
  },
  {
   "cell_type": "code",
   "execution_count": null,
   "outputs": [],
   "source": [
    "    # Filter active players\n",
    "    active_players = [x for x in players_by_league if x['leagues']['standard']['active'] == '1']"
   ],
   "metadata": {
    "collapsed": false,
    "pycharm": {
     "name": "#%%\n"
    }
   }
  },
  {
   "cell_type": "code",
   "execution_count": null,
   "outputs": [],
   "source": [
    "    # Data Frame of active players\n",
    "    active_players_df = pd.DataFrame(active_players)"
   ],
   "metadata": {
    "collapsed": false,
    "pycharm": {
     "name": "#%%\n"
    }
   }
  },
  {
   "cell_type": "code",
   "execution_count": null,
   "outputs": [],
   "source": [
    "    # Data Frame of active players ids\n",
    "    active_players_name_ids = active_players_df[['playerId', 'firstName', 'lastName']].copy()"
   ],
   "metadata": {
    "collapsed": false,
    "pycharm": {
     "name": "#%%\n"
    }
   }
  },
  {
   "cell_type": "code",
   "execution_count": null,
   "outputs": [],
   "source": [
    "    player_ids_lst = [x for x in active_players_name_ids[\"playerId\"]]\n"
   ],
   "metadata": {
    "collapsed": false,
    "pycharm": {
     "name": "#%%\n"
    }
   }
  },
  {
   "cell_type": "code",
   "execution_count": null,
   "outputs": [],
   "source": [
    "    # Get latest season\n",
    "    season = rapidapi_nba.get_season(head)"
   ],
   "metadata": {
    "collapsed": false,
    "pycharm": {
     "name": "#%%\n"
    }
   }
  },
  {
   "cell_type": "code",
   "execution_count": null,
   "outputs": [],
   "source": [
    "    # Set up table for that holds stats that will be displayed\n",
    "    column_names = ['playerId', 'firstName', 'lastName', 'teamId', 'pos', 'points', 'totReb', 'assists',\n",
    "                    'steals', 'blocks', 'turnovers', 'fantasyPoints']\n",
    "    average_stats = pd.DataFrame(columns=column_names)"
   ],
   "metadata": {
    "collapsed": false,
    "pycharm": {
     "name": "#%%\n"
    }
   }
  },
  {
   "cell_type": "code",
   "execution_count": null,
   "outputs": [],
   "source": [
    "    # Get stats from player from player with id '265' ie LeBron James\n",
    "    Id = '265'\n",
    "    player_stats_r = rapidapi_nba.get_player_stats_by_player_id(head, Id)\n",
    "    player_stats = player_stats_r.json()['api']['statistics']\n",
    "    stat_df = pd.json_normalize(player_stats)\n",
    "    if len(player_stats) >= 5:\n",
    "        latest_stat_df = pd.json_normalize(player_stats[-6:-1])\n",
    "    else:\n",
    "        latest_stat_df = pd.json_normalize(player_stats)\n",
    "\n",
    "    x = active_players_name_ids.loc[active_players_name_ids['playerId'] == Id]\n",
    "    latest_stat_df[[\"points\", \"totReb\", \"assists\", \"steals\", \"turnovers\", \"blocks\"]] = latest_stat_df[\n",
    "        [\"points\", \"totReb\", \"assists\", \"steals\", \"turnovers\", \"blocks\"]].apply(pd.to_numeric)\n",
    "\n",
    "    average_stats = average_stats.append({'playerId': latest_stat_df['playerId'][0],\n",
    "                                          'firstName': x[\"firstName\"].item(),\n",
    "                                          'lastName': x[\"lastName\"].item(),\n",
    "                                          'teamId': latest_stat_df['teamId'][0],\n",
    "                                          'pos': latest_stat_df['pos'][0],\n",
    "                                          'points': latest_stat_df['points'].mean(),\n",
    "                                          'totReb': latest_stat_df['totReb'].mean(),\n",
    "                                          'assists': latest_stat_df['assists'].mean(),\n",
    "                                          'steals': latest_stat_df['steals'].mean(),\n",
    "                                          'blocks': latest_stat_df['blocks'].mean(),\n",
    "                                          'turnovers': latest_stat_df['turnovers'].mean(),\n",
    "                                          'fantasyPoints': ((latest_stat_df['points'].mean() * 1) +\n",
    "                                                            (latest_stat_df['totReb'].mean() * 1.2) +\n",
    "                                                            (latest_stat_df['assists'].mean() * 1.5) +\n",
    "                                                            (latest_stat_df['steals'].mean() * 2) +\n",
    "                                                            (latest_stat_df['blocks'].mean() * 2) +\n",
    "                                                            (latest_stat_df['turnovers'].mean() * -1))\n",
    "                                          },\n",
    "                                         ignore_index=True)\n",
    "    print(average_stats)"
   ],
   "metadata": {
    "collapsed": false,
    "pycharm": {
     "name": "#%%\n"
    }
   }
  },
  {
   "cell_type": "code",
   "execution_count": null,
   "outputs": [],
   "source": [
    "#\n",
    "#     average_stats = pd.DataFrame(columns=column_names)"
   ],
   "metadata": {
    "collapsed": false,
    "pycharm": {
     "name": "#%%\n"
    }
   }
  },
  {
   "cell_type": "code",
   "execution_count": null,
   "outputs": [],
   "source": [
    "    # Try the same as above except in a loop\n",
    "    completed_player = 0\n",
    "    for player_id in player_ids_lst[0:50]:\n",
    "        # Get stats from player\n",
    "        player_stats_r = rapidapi_nba.get_player_stats_by_player_id(head, player_id)\n",
    "        player_stats = player_stats_r.json()['api']['statistics']\n",
    "        stat_df = pd.json_normalize(player_stats)\n",
    "        if len(player_stats) >= 5:\n",
    "            latest_stat_df = pd.json_normalize(player_stats[-6:-1])\n",
    "        else:\n",
    "            latest_stat_df = pd.json_normalize(player_stats)\n",
    "        x = active_players_name_ids.loc[active_players_name_ids['playerId'] == player_id]\n",
    "        latest_stat_df[[\"points\", \"totReb\", \"assists\", \"steals\", \"turnovers\", \"blocks\"]] = latest_stat_df[\n",
    "            [\"points\", \"totReb\", \"assists\", \"steals\", \"turnovers\", \"blocks\"]].apply(pd.to_numeric)\n",
    "\n",
    "        average_stats = average_stats.append({'playerId': latest_stat_df['playerId'][0],\n",
    "                                              'firstName': x[\"firstName\"].item(),\n",
    "                                              'lastName': x[\"lastName\"].item(),\n",
    "                                              'teamId': latest_stat_df['teamId'][0],\n",
    "                                              'pos': latest_stat_df['pos'][0],\n",
    "                                              'points': latest_stat_df['points'].mean(),\n",
    "                                              'totReb': latest_stat_df['totReb'].mean(),\n",
    "                                              'assists': latest_stat_df['assists'].mean(),\n",
    "                                              'steals': latest_stat_df['steals'].mean(),\n",
    "                                              'blocks': latest_stat_df['blocks'].mean(),\n",
    "                                              'turnovers': latest_stat_df['turnovers'].mean(),\n",
    "                                              'fantasyPoints': ((latest_stat_df['points'].mean() * 1) +\n",
    "                                                                (latest_stat_df['totReb'].mean() * 1.2) +\n",
    "                                                                (latest_stat_df['assists'].mean() * 1.5) +\n",
    "                                                                (latest_stat_df['steals'].mean() * 2) +\n",
    "                                                                (latest_stat_df['blocks'].mean() * 2) +\n",
    "                                                                (latest_stat_df['turnovers'].mean() * -1))\n",
    "                                              },\n",
    "                                             ignore_index=True)\n",
    "        completed_player += 1\n",
    "        print(f\"Completed player {completed_player} of {len(player_ids_lst)}\")\n",
    "    print(average_stats)\n"
   ],
   "metadata": {
    "collapsed": false,
    "pycharm": {
     "name": "#%%\n"
    }
   }
  }
 ],
 "metadata": {
  "kernelspec": {
   "display_name": "Python 3",
   "language": "python",
   "name": "python3"
  },
  "language_info": {
   "codemirror_mode": {
    "name": "ipython",
    "version": 2
   },
   "file_extension": ".py",
   "mimetype": "text/x-python",
   "name": "python",
   "nbconvert_exporter": "python",
   "pygments_lexer": "ipython2",
   "version": "2.7.6"
  }
 },
 "nbformat": 4,
 "nbformat_minor": 0
}